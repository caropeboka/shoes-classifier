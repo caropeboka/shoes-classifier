{
  "nbformat": 4,
  "nbformat_minor": 0,
  "metadata": {
    "colab": {
      "provenance": [],
      "collapsed_sections": [],
      "authorship_tag": "ABX9TyOL9u58O7Yf8ozXCMwiwHFV",
      "include_colab_link": true
    },
    "kernelspec": {
      "name": "python3",
      "display_name": "Python 3"
    },
    "language_info": {
      "name": "python"
    },
    "widgets": {
      "application/vnd.jupyter.widget-state+json": {
        "ea5610def7584091a886cc208ac11f52": {
          "model_module": "@jupyter-widgets/controls",
          "model_name": "HBoxModel",
          "model_module_version": "1.5.0",
          "state": {
            "_dom_classes": [],
            "_model_module": "@jupyter-widgets/controls",
            "_model_module_version": "1.5.0",
            "_model_name": "HBoxModel",
            "_view_count": null,
            "_view_module": "@jupyter-widgets/controls",
            "_view_module_version": "1.5.0",
            "_view_name": "HBoxView",
            "box_style": "",
            "children": [
              "IPY_MODEL_36de5f468f9b4defbd8a4196023346f2",
              "IPY_MODEL_283e3abe58c3448f81f5aa8971e5bb03",
              "IPY_MODEL_0f69b738141243a68178684836c86a01"
            ],
            "layout": "IPY_MODEL_bf0d52938ff54f0e95d7b47163e03d36"
          }
        },
        "36de5f468f9b4defbd8a4196023346f2": {
          "model_module": "@jupyter-widgets/controls",
          "model_name": "HTMLModel",
          "model_module_version": "1.5.0",
          "state": {
            "_dom_classes": [],
            "_model_module": "@jupyter-widgets/controls",
            "_model_module_version": "1.5.0",
            "_model_name": "HTMLModel",
            "_view_count": null,
            "_view_module": "@jupyter-widgets/controls",
            "_view_module_version": "1.5.0",
            "_view_name": "HTMLView",
            "description": "",
            "description_tooltip": null,
            "layout": "IPY_MODEL_20dc778038634b2ab3125f19a249969b",
            "placeholder": "​",
            "style": "IPY_MODEL_52d8a4d264ef43b9a75a37b050c4d302",
            "value": "100%"
          }
        },
        "283e3abe58c3448f81f5aa8971e5bb03": {
          "model_module": "@jupyter-widgets/controls",
          "model_name": "FloatProgressModel",
          "model_module_version": "1.5.0",
          "state": {
            "_dom_classes": [],
            "_model_module": "@jupyter-widgets/controls",
            "_model_module_version": "1.5.0",
            "_model_name": "FloatProgressModel",
            "_view_count": null,
            "_view_module": "@jupyter-widgets/controls",
            "_view_module_version": "1.5.0",
            "_view_name": "ProgressView",
            "bar_style": "success",
            "description": "",
            "description_tooltip": null,
            "layout": "IPY_MODEL_56d15b25423a46d099b05e2d0ca7607a",
            "max": 553433881,
            "min": 0,
            "orientation": "horizontal",
            "style": "IPY_MODEL_d280bc7a280d4f48bfc927a79fd72b3a",
            "value": 553433881
          }
        },
        "0f69b738141243a68178684836c86a01": {
          "model_module": "@jupyter-widgets/controls",
          "model_name": "HTMLModel",
          "model_module_version": "1.5.0",
          "state": {
            "_dom_classes": [],
            "_model_module": "@jupyter-widgets/controls",
            "_model_module_version": "1.5.0",
            "_model_name": "HTMLModel",
            "_view_count": null,
            "_view_module": "@jupyter-widgets/controls",
            "_view_module_version": "1.5.0",
            "_view_name": "HTMLView",
            "description": "",
            "description_tooltip": null,
            "layout": "IPY_MODEL_b1ca7ea7fdfb48faa492ac5f3a1db963",
            "placeholder": "​",
            "style": "IPY_MODEL_7eeee8a0cdb142d5b1a077ddda0df57d",
            "value": " 528M/528M [00:18&lt;00:00, 50.0MB/s]"
          }
        },
        "bf0d52938ff54f0e95d7b47163e03d36": {
          "model_module": "@jupyter-widgets/base",
          "model_name": "LayoutModel",
          "model_module_version": "1.2.0",
          "state": {
            "_model_module": "@jupyter-widgets/base",
            "_model_module_version": "1.2.0",
            "_model_name": "LayoutModel",
            "_view_count": null,
            "_view_module": "@jupyter-widgets/base",
            "_view_module_version": "1.2.0",
            "_view_name": "LayoutView",
            "align_content": null,
            "align_items": null,
            "align_self": null,
            "border": null,
            "bottom": null,
            "display": null,
            "flex": null,
            "flex_flow": null,
            "grid_area": null,
            "grid_auto_columns": null,
            "grid_auto_flow": null,
            "grid_auto_rows": null,
            "grid_column": null,
            "grid_gap": null,
            "grid_row": null,
            "grid_template_areas": null,
            "grid_template_columns": null,
            "grid_template_rows": null,
            "height": null,
            "justify_content": null,
            "justify_items": null,
            "left": null,
            "margin": null,
            "max_height": null,
            "max_width": null,
            "min_height": null,
            "min_width": null,
            "object_fit": null,
            "object_position": null,
            "order": null,
            "overflow": null,
            "overflow_x": null,
            "overflow_y": null,
            "padding": null,
            "right": null,
            "top": null,
            "visibility": null,
            "width": null
          }
        },
        "20dc778038634b2ab3125f19a249969b": {
          "model_module": "@jupyter-widgets/base",
          "model_name": "LayoutModel",
          "model_module_version": "1.2.0",
          "state": {
            "_model_module": "@jupyter-widgets/base",
            "_model_module_version": "1.2.0",
            "_model_name": "LayoutModel",
            "_view_count": null,
            "_view_module": "@jupyter-widgets/base",
            "_view_module_version": "1.2.0",
            "_view_name": "LayoutView",
            "align_content": null,
            "align_items": null,
            "align_self": null,
            "border": null,
            "bottom": null,
            "display": null,
            "flex": null,
            "flex_flow": null,
            "grid_area": null,
            "grid_auto_columns": null,
            "grid_auto_flow": null,
            "grid_auto_rows": null,
            "grid_column": null,
            "grid_gap": null,
            "grid_row": null,
            "grid_template_areas": null,
            "grid_template_columns": null,
            "grid_template_rows": null,
            "height": null,
            "justify_content": null,
            "justify_items": null,
            "left": null,
            "margin": null,
            "max_height": null,
            "max_width": null,
            "min_height": null,
            "min_width": null,
            "object_fit": null,
            "object_position": null,
            "order": null,
            "overflow": null,
            "overflow_x": null,
            "overflow_y": null,
            "padding": null,
            "right": null,
            "top": null,
            "visibility": null,
            "width": null
          }
        },
        "52d8a4d264ef43b9a75a37b050c4d302": {
          "model_module": "@jupyter-widgets/controls",
          "model_name": "DescriptionStyleModel",
          "model_module_version": "1.5.0",
          "state": {
            "_model_module": "@jupyter-widgets/controls",
            "_model_module_version": "1.5.0",
            "_model_name": "DescriptionStyleModel",
            "_view_count": null,
            "_view_module": "@jupyter-widgets/base",
            "_view_module_version": "1.2.0",
            "_view_name": "StyleView",
            "description_width": ""
          }
        },
        "56d15b25423a46d099b05e2d0ca7607a": {
          "model_module": "@jupyter-widgets/base",
          "model_name": "LayoutModel",
          "model_module_version": "1.2.0",
          "state": {
            "_model_module": "@jupyter-widgets/base",
            "_model_module_version": "1.2.0",
            "_model_name": "LayoutModel",
            "_view_count": null,
            "_view_module": "@jupyter-widgets/base",
            "_view_module_version": "1.2.0",
            "_view_name": "LayoutView",
            "align_content": null,
            "align_items": null,
            "align_self": null,
            "border": null,
            "bottom": null,
            "display": null,
            "flex": null,
            "flex_flow": null,
            "grid_area": null,
            "grid_auto_columns": null,
            "grid_auto_flow": null,
            "grid_auto_rows": null,
            "grid_column": null,
            "grid_gap": null,
            "grid_row": null,
            "grid_template_areas": null,
            "grid_template_columns": null,
            "grid_template_rows": null,
            "height": null,
            "justify_content": null,
            "justify_items": null,
            "left": null,
            "margin": null,
            "max_height": null,
            "max_width": null,
            "min_height": null,
            "min_width": null,
            "object_fit": null,
            "object_position": null,
            "order": null,
            "overflow": null,
            "overflow_x": null,
            "overflow_y": null,
            "padding": null,
            "right": null,
            "top": null,
            "visibility": null,
            "width": null
          }
        },
        "d280bc7a280d4f48bfc927a79fd72b3a": {
          "model_module": "@jupyter-widgets/controls",
          "model_name": "ProgressStyleModel",
          "model_module_version": "1.5.0",
          "state": {
            "_model_module": "@jupyter-widgets/controls",
            "_model_module_version": "1.5.0",
            "_model_name": "ProgressStyleModel",
            "_view_count": null,
            "_view_module": "@jupyter-widgets/base",
            "_view_module_version": "1.2.0",
            "_view_name": "StyleView",
            "bar_color": null,
            "description_width": ""
          }
        },
        "b1ca7ea7fdfb48faa492ac5f3a1db963": {
          "model_module": "@jupyter-widgets/base",
          "model_name": "LayoutModel",
          "model_module_version": "1.2.0",
          "state": {
            "_model_module": "@jupyter-widgets/base",
            "_model_module_version": "1.2.0",
            "_model_name": "LayoutModel",
            "_view_count": null,
            "_view_module": "@jupyter-widgets/base",
            "_view_module_version": "1.2.0",
            "_view_name": "LayoutView",
            "align_content": null,
            "align_items": null,
            "align_self": null,
            "border": null,
            "bottom": null,
            "display": null,
            "flex": null,
            "flex_flow": null,
            "grid_area": null,
            "grid_auto_columns": null,
            "grid_auto_flow": null,
            "grid_auto_rows": null,
            "grid_column": null,
            "grid_gap": null,
            "grid_row": null,
            "grid_template_areas": null,
            "grid_template_columns": null,
            "grid_template_rows": null,
            "height": null,
            "justify_content": null,
            "justify_items": null,
            "left": null,
            "margin": null,
            "max_height": null,
            "max_width": null,
            "min_height": null,
            "min_width": null,
            "object_fit": null,
            "object_position": null,
            "order": null,
            "overflow": null,
            "overflow_x": null,
            "overflow_y": null,
            "padding": null,
            "right": null,
            "top": null,
            "visibility": null,
            "width": null
          }
        },
        "7eeee8a0cdb142d5b1a077ddda0df57d": {
          "model_module": "@jupyter-widgets/controls",
          "model_name": "DescriptionStyleModel",
          "model_module_version": "1.5.0",
          "state": {
            "_model_module": "@jupyter-widgets/controls",
            "_model_module_version": "1.5.0",
            "_model_name": "DescriptionStyleModel",
            "_view_count": null,
            "_view_module": "@jupyter-widgets/base",
            "_view_module_version": "1.2.0",
            "_view_name": "StyleView",
            "description_width": ""
          }
        }
      }
    }
  },
  "cells": [
    {
      "cell_type": "markdown",
      "metadata": {
        "id": "view-in-github",
        "colab_type": "text"
      },
      "source": [
        "<a href=\"https://colab.research.google.com/github/caropeboka/shoes-classifier/blob/main/MSIB_Image_Processing_with_OpenCV.ipynb\" target=\"_parent\"><img src=\"https://colab.research.google.com/assets/colab-badge.svg\" alt=\"Open In Colab\"/></a>"
      ]
    },
    {
      "cell_type": "code",
      "source": [
        "from google.colab import drive\n",
        "drive.mount ('/content/drive')"
      ],
      "metadata": {
        "colab": {
          "base_uri": "https://localhost:8080/"
        },
        "id": "-neaNSNPALAi",
        "outputId": "277f302c-b247-486a-803e-07c1e110e468"
      },
      "execution_count": null,
      "outputs": [
        {
          "output_type": "stream",
          "name": "stdout",
          "text": [
            "Mounted at /content/drive\n"
          ]
        }
      ]
    },
    {
      "cell_type": "code",
      "execution_count": null,
      "metadata": {
        "id": "22lLb04G-MgN"
      },
      "outputs": [],
      "source": [
        "import torch\n",
        "from torch.utils.data import Subset, Dataset, DataLoader\n",
        "from torchvision import datasets\n",
        "import torchvision.models as models\n",
        "from torch.optim import lr_scheduler\n",
        "\n",
        "import torch.nn as nn\n",
        "import torchvision.transforms as T\n",
        "import matplotlib.pylab as plt\n",
        "import numpy as np\n",
        "\n",
        "import os\n",
        "import glob\n",
        "from PIL import Image\n",
        "\n",
        "import cv2\n",
        "from sklearn.model_selection import train_test_split\n",
        "from tqdm import tqdm"
      ]
    },
    {
      "cell_type": "code",
      "source": [
        "def train_val_dataset(dataset, val_split=0.25):\n",
        "  train_idx, val_idx = train_test_split(list(range(len(dataset))), test_size=val_split)\n",
        "  datasets = {}\n",
        "  datasets['train'] = Subset(dataset, train_idx)\n",
        "  datasets['val'] = Subset(dataset, val_idx)\n",
        "  return datasets"
      ],
      "metadata": {
        "id": "9CcIpb2ZEdQC"
      },
      "execution_count": null,
      "outputs": []
    },
    {
      "cell_type": "markdown",
      "source": [
        "Define paths for the data directory"
      ],
      "metadata": {
        "id": "lfDb6_IN__LZ"
      }
    },
    {
      "cell_type": "code",
      "source": [
        "TRAIN_PATH = (\"drive/MyDrive/Dataset/Shoes/train/\")\n",
        "TEST_PATH = (\"drive/MyDrive/Dataset/Shoes/test/\")"
      ],
      "metadata": {
        "id": "gTRJlfUi_-oQ"
      },
      "execution_count": null,
      "outputs": []
    },
    {
      "cell_type": "markdown",
      "source": [
        "Transformation for the images"
      ],
      "metadata": {
        "id": "QmzzUF5MC4g5"
      }
    },
    {
      "cell_type": "code",
      "source": [
        "train_transform = T.Compose([\n",
        "    T.Resize(224),\n",
        "    T.ToTensor()\n",
        "])"
      ],
      "metadata": {
        "id": "iuh5UCpQC735"
      },
      "execution_count": null,
      "outputs": []
    },
    {
      "cell_type": "markdown",
      "source": [
        "Load all data from the data directory"
      ],
      "metadata": {
        "id": "UHrOfSoYDL3Z"
      }
    },
    {
      "cell_type": "code",
      "source": [
        "train_data = datasets.ImageFolder(TRAIN_PATH, transform=train_transform)\n",
        "train_data = train_val_dataset(train_data)\n",
        "test_data = datasets.ImageFolder(TEST_PATH, transform=T.ToTensor())"
      ],
      "metadata": {
        "id": "XiLnoOXLDP4B"
      },
      "execution_count": null,
      "outputs": []
    },
    {
      "cell_type": "markdown",
      "source": [
        "Define customized CNN model\n",
        "\n",
        "Our CNN model contains 2 hidden layers and 1 fully-connected layer."
      ],
      "metadata": {
        "id": "ziYc9smqIZbS"
      }
    },
    {
      "cell_type": "code",
      "source": [
        "# define CNN model\n",
        "class CNN(nn.Module):\n",
        "    # constructor\n",
        "    def __init__(self, out_1=16, out_2=16):\n",
        "        super(CNN, self).__init__()\n",
        "        # first hidden layer\n",
        "        self.cnn1 = nn.Conv2d(in_channels=3, out_channels=out_1, kernel_size=5, padding=2, stride=1) # output width: 224\n",
        "        self.maxpool1 = nn.MaxPool2d(kernel_size=2) # output width: 112\n",
        "        # second hidden layer\n",
        "        self.cnn2 = nn.Conv2d(in_channels=out_1, out_channels=out_2, kernel_size=5, padding=2, stride=1) # output width: 112\n",
        "        self.maxpool2 = nn.MaxPool2d(kernel_size=2) # output width: 56\n",
        "        \n",
        "        self.fc1 = nn.Linear(out_2 * 56 * 56,128)\n",
        "        self.fc2 = nn.Linear(128, 3)\n",
        "\n",
        "        self.dropout = nn.Dropout(0.3)\n",
        "    \n",
        "    def forward(self, x):\n",
        "        x = self.cnn1(x)\n",
        "        x = self.dropout(x)\n",
        "        x = torch.relu(x)\n",
        "        x = self.maxpool1(x)\n",
        "        x = self.cnn2(x)\n",
        "        x = self.dropout(x)\n",
        "        x = torch.relu(x)\n",
        "        x = self.maxpool2(x)\n",
        "        x = x.view(x.size(0), -1)\n",
        "        x = self.fc1(x)\n",
        "        x = self.fc2(x)\n",
        "        return x"
      ],
      "metadata": {
        "id": "Q_wF5uVUIjBx"
      },
      "execution_count": null,
      "outputs": []
    },
    {
      "cell_type": "markdown",
      "source": [
        "Model Configuration (loss function and optimizer)"
      ],
      "metadata": {
        "id": "Cp8_APEhIrNi"
      }
    },
    {
      "cell_type": "code",
      "source": [
        "model = CNN()\n",
        "model.to\n",
        "criterion = nn.CrossEntropyLoss()\n",
        "lr = 0.01 #learning rate\n",
        "optimizer = torch.optim.SGD(model.parameters(), lr=lr)\n",
        "\n",
        "#create data loaders\n",
        "train_loader = DataLoader(train_data['train'], batch_size=10, shuffle=True)\n",
        "val_loader = DataLoader(train_data['val'], batch_size=10, shuffle=True)\n",
        "test_loader = DataLoader(test_data, batch_size=10, shuffle=False)"
      ],
      "metadata": {
        "id": "WOfIX0wgIvba"
      },
      "execution_count": null,
      "outputs": []
    },
    {
      "cell_type": "markdown",
      "source": [
        "Model Training Function"
      ],
      "metadata": {
        "id": "di0KRqZRaKa5"
      }
    },
    {
      "cell_type": "code",
      "source": [
        "train_cost_list = []\n",
        "train_acc_list = []\n",
        "val_cost_list = []\n",
        "val_acc_list = []\n",
        "N_train=len(train_data['train'])\n",
        "N_val=len(train_data['val'])\n",
        "\n",
        "#model training function\n",
        "def train_model(model, n_epochs):\n",
        "  min_valid_loss = np.inf\n",
        "\n",
        "  for epoch in tqdm(range(n_epochs)):\n",
        "    print(f\"Training epoch {epoch}...\")\n",
        "    TRAIN_COST = 0\n",
        "    train_correct = 0\n",
        "    for x, y in train_loader:\n",
        "      if torch.cuda.is_available():\n",
        "        x = x.to('cuda')\n",
        "        y = y.to('cuda')\n",
        "      optimizer.zero_grad() #gradient reset\n",
        "      z = model(x) #run forward function in model\n",
        "      loss = criterion(z, y)\n",
        "      loss.backward()\n",
        "      optimizer.step()\n",
        "      TRAIN_COST += loss.data #add loss of each BATCH into total loss of the epoch\n",
        "      _, yhat = torch.max(z.data, 1)\n",
        "      train_correct += (yhat == y).sum().item()\n",
        "    train_cost_list.append(TRAIN_COST) #list of total loss of each epoch\n",
        "    train_acc_list.append(train_correct / N_train)\n",
        "\n",
        "    VAL_COST = 0\n",
        "    val_correct = 0\n",
        "    for x_val, y_val in val_loader:\n",
        "      if torch.cuda.is_available():\n",
        "        x_val = x_val.to('cuda')\n",
        "        y_val = y_val.to('cuda')\n",
        "      optimizer.zero_grad()\n",
        "      z = model(x_val)\n",
        "      loss = criterion(z, y_val)\n",
        "      VAL_COST += loss.data\n",
        "      _, yhat = torch.max(z.data, 1)\n",
        "      val_correct += (yhat == y_val).sum().item()\n",
        "\n",
        "    val_cost_list.append(VAL_COST)\n",
        "    val_acc_list.append(val_correct / N_val)\n",
        "\n",
        "    print(f'Epoch {epoch+1} \\t\\t Training Loss: {TRAIN_COST / len(train_loader)} \\t\\t Validation Loss: {VAL_COST / len(val_loader)}')\n",
        "    if min_valid_loss > VAL_COST:\n",
        "      print(f'Validation Loss Decreased({min_valid_loss:.6f}--->{VAL_COST:.6f}) \\t Saving The Model')\n",
        "      min_valid_loss = VAL_COST\n",
        "      #Saving State Dict\n",
        "      torch.save(model.state_dict(), 'saved_model.pth')"
      ],
      "metadata": {
        "id": "PmY2JTebaNpQ"
      },
      "execution_count": null,
      "outputs": []
    },
    {
      "cell_type": "markdown",
      "source": [
        "Model Training"
      ],
      "metadata": {
        "id": "9vYxN-2kkmMc"
      }
    },
    {
      "cell_type": "code",
      "source": [
        "n_epochs = 20\n",
        "train_model(model, n_epochs)"
      ],
      "metadata": {
        "colab": {
          "base_uri": "https://localhost:8080/"
        },
        "id": "xfv05EtSkkqb",
        "outputId": "0b6e11d3-30d1-4cf9-f506-9a23e00b4aa6"
      },
      "execution_count": null,
      "outputs": [
        {
          "output_type": "stream",
          "name": "stderr",
          "text": [
            "\r  0%|          | 0/20 [00:00<?, ?it/s]"
          ]
        },
        {
          "output_type": "stream",
          "name": "stdout",
          "text": [
            "Training epoch 0...\n"
          ]
        },
        {
          "output_type": "stream",
          "name": "stderr",
          "text": [
            "\r  5%|▌         | 1/20 [01:32<29:15, 92.41s/it]"
          ]
        },
        {
          "output_type": "stream",
          "name": "stdout",
          "text": [
            "Epoch 1 \t\t Training Loss: 1.14228355884552 \t\t Validation Loss: 1.0988595485687256\n",
            "Validation Loss Decreased(inf--->19.779472) \t Saving The Model\n",
            "Training epoch 1...\n"
          ]
        },
        {
          "output_type": "stream",
          "name": "stderr",
          "text": [
            "\r 10%|█         | 2/20 [02:01<16:29, 54.98s/it]"
          ]
        },
        {
          "output_type": "stream",
          "name": "stdout",
          "text": [
            "Epoch 2 \t\t Training Loss: 1.0977202653884888 \t\t Validation Loss: 1.0994172096252441\n",
            "Training epoch 2...\n"
          ]
        },
        {
          "output_type": "stream",
          "name": "stderr",
          "text": [
            "\r 15%|█▌        | 3/20 [02:31<12:23, 43.71s/it]"
          ]
        },
        {
          "output_type": "stream",
          "name": "stdout",
          "text": [
            "Epoch 3 \t\t Training Loss: 1.0968869924545288 \t\t Validation Loss: 1.1913886070251465\n",
            "Training epoch 3...\n"
          ]
        },
        {
          "output_type": "stream",
          "name": "stderr",
          "text": [
            "\r 20%|██        | 4/20 [03:00<10:04, 37.77s/it]"
          ]
        },
        {
          "output_type": "stream",
          "name": "stdout",
          "text": [
            "Epoch 4 \t\t Training Loss: 1.1153324842453003 \t\t Validation Loss: 1.09379243850708\n",
            "Validation Loss Decreased(19.779472--->19.688263) \t Saving The Model\n",
            "Training epoch 4...\n"
          ]
        },
        {
          "output_type": "stream",
          "name": "stderr",
          "text": [
            "\r 25%|██▌       | 5/20 [03:28<08:37, 34.50s/it]"
          ]
        },
        {
          "output_type": "stream",
          "name": "stdout",
          "text": [
            "Epoch 5 \t\t Training Loss: 1.09269380569458 \t\t Validation Loss: 1.0915251970291138\n",
            "Validation Loss Decreased(19.688263--->19.647453) \t Saving The Model\n",
            "Training epoch 5...\n"
          ]
        },
        {
          "output_type": "stream",
          "name": "stderr",
          "text": [
            "\r 30%|███       | 6/20 [03:57<07:37, 32.66s/it]"
          ]
        },
        {
          "output_type": "stream",
          "name": "stdout",
          "text": [
            "Epoch 6 \t\t Training Loss: 1.0919309854507446 \t\t Validation Loss: 1.0910661220550537\n",
            "Validation Loss Decreased(19.647453--->19.639191) \t Saving The Model\n",
            "Training epoch 6...\n"
          ]
        },
        {
          "output_type": "stream",
          "name": "stderr",
          "text": [
            "\r 35%|███▌      | 7/20 [04:26<06:48, 31.42s/it]"
          ]
        },
        {
          "output_type": "stream",
          "name": "stdout",
          "text": [
            "Epoch 7 \t\t Training Loss: 1.0655092000961304 \t\t Validation Loss: 1.1019147634506226\n",
            "Training epoch 7...\n"
          ]
        },
        {
          "output_type": "stream",
          "name": "stderr",
          "text": [
            "\r 40%|████      | 8/20 [04:55<06:05, 30.50s/it]"
          ]
        },
        {
          "output_type": "stream",
          "name": "stdout",
          "text": [
            "Epoch 8 \t\t Training Loss: 1.0349503755569458 \t\t Validation Loss: 1.0539950132369995\n",
            "Validation Loss Decreased(19.639191--->18.971910) \t Saving The Model\n",
            "Training epoch 8...\n"
          ]
        },
        {
          "output_type": "stream",
          "name": "stderr",
          "text": [
            "\r 45%|████▌     | 9/20 [05:22<05:23, 29.40s/it]"
          ]
        },
        {
          "output_type": "stream",
          "name": "stdout",
          "text": [
            "Epoch 9 \t\t Training Loss: 1.034970760345459 \t\t Validation Loss: 1.075542688369751\n",
            "Training epoch 9...\n"
          ]
        },
        {
          "output_type": "stream",
          "name": "stderr",
          "text": [
            "\r 50%|█████     | 10/20 [05:49<04:46, 28.61s/it]"
          ]
        },
        {
          "output_type": "stream",
          "name": "stdout",
          "text": [
            "Epoch 10 \t\t Training Loss: 0.9872702956199646 \t\t Validation Loss: 1.0762490034103394\n",
            "Training epoch 10...\n"
          ]
        },
        {
          "output_type": "stream",
          "name": "stderr",
          "text": [
            "\r 55%|█████▌    | 11/20 [06:14<04:09, 27.74s/it]"
          ]
        },
        {
          "output_type": "stream",
          "name": "stdout",
          "text": [
            "Epoch 11 \t\t Training Loss: 0.9984877109527588 \t\t Validation Loss: 1.069942593574524\n",
            "Training epoch 11...\n"
          ]
        },
        {
          "output_type": "stream",
          "name": "stderr",
          "text": [
            "\r 60%|██████    | 12/20 [06:40<03:37, 27.16s/it]"
          ]
        },
        {
          "output_type": "stream",
          "name": "stdout",
          "text": [
            "Epoch 12 \t\t Training Loss: 0.8846133351325989 \t\t Validation Loss: 1.3238255977630615\n",
            "Training epoch 12...\n"
          ]
        },
        {
          "output_type": "stream",
          "name": "stderr",
          "text": [
            "\r 65%|██████▌   | 13/20 [07:06<03:07, 26.77s/it]"
          ]
        },
        {
          "output_type": "stream",
          "name": "stdout",
          "text": [
            "Epoch 13 \t\t Training Loss: 0.8005934953689575 \t\t Validation Loss: 1.2873369455337524\n",
            "Training epoch 13...\n"
          ]
        },
        {
          "output_type": "stream",
          "name": "stderr",
          "text": [
            "\r 70%|███████   | 14/20 [07:33<02:40, 26.81s/it]"
          ]
        },
        {
          "output_type": "stream",
          "name": "stdout",
          "text": [
            "Epoch 14 \t\t Training Loss: 0.6261937022209167 \t\t Validation Loss: 1.1093528270721436\n",
            "Training epoch 14...\n"
          ]
        },
        {
          "output_type": "stream",
          "name": "stderr",
          "text": [
            "\r 75%|███████▌  | 15/20 [07:59<02:12, 26.55s/it]"
          ]
        },
        {
          "output_type": "stream",
          "name": "stdout",
          "text": [
            "Epoch 15 \t\t Training Loss: 0.5996628999710083 \t\t Validation Loss: 1.2783664464950562\n",
            "Training epoch 15...\n"
          ]
        },
        {
          "output_type": "stream",
          "name": "stderr",
          "text": [
            "\r 80%|████████  | 16/20 [08:25<01:45, 26.43s/it]"
          ]
        },
        {
          "output_type": "stream",
          "name": "stdout",
          "text": [
            "Epoch 16 \t\t Training Loss: 0.45178738236427307 \t\t Validation Loss: 1.329152226448059\n",
            "Training epoch 16...\n"
          ]
        },
        {
          "output_type": "stream",
          "name": "stderr",
          "text": [
            "\r 85%|████████▌ | 17/20 [08:51<01:19, 26.38s/it]"
          ]
        },
        {
          "output_type": "stream",
          "name": "stdout",
          "text": [
            "Epoch 17 \t\t Training Loss: 0.3205704092979431 \t\t Validation Loss: 1.4564967155456543\n",
            "Training epoch 17...\n"
          ]
        },
        {
          "output_type": "stream",
          "name": "stderr",
          "text": [
            "\r 90%|█████████ | 18/20 [09:18<00:53, 26.52s/it]"
          ]
        },
        {
          "output_type": "stream",
          "name": "stdout",
          "text": [
            "Epoch 18 \t\t Training Loss: 0.2407388985157013 \t\t Validation Loss: 1.9508404731750488\n",
            "Training epoch 18...\n"
          ]
        },
        {
          "output_type": "stream",
          "name": "stderr",
          "text": [
            "\r 95%|█████████▌| 19/20 [09:45<00:26, 26.58s/it]"
          ]
        },
        {
          "output_type": "stream",
          "name": "stdout",
          "text": [
            "Epoch 19 \t\t Training Loss: 0.17102552950382233 \t\t Validation Loss: 4.960335731506348\n",
            "Training epoch 19...\n"
          ]
        },
        {
          "output_type": "stream",
          "name": "stderr",
          "text": [
            "100%|██████████| 20/20 [10:11<00:00, 30.56s/it]"
          ]
        },
        {
          "output_type": "stream",
          "name": "stdout",
          "text": [
            "Epoch 20 \t\t Training Loss: 0.46779921650886536 \t\t Validation Loss: 1.6155236959457397\n"
          ]
        },
        {
          "output_type": "stream",
          "name": "stderr",
          "text": [
            "\n"
          ]
        }
      ]
    },
    {
      "cell_type": "markdown",
      "source": [
        "Model Accuracy"
      ],
      "metadata": {
        "id": "vscB9u7UneQy"
      }
    },
    {
      "cell_type": "code",
      "source": [
        "train_acc_list = torch.tensor(train_acc_list, device = 'cpu')\n",
        "val_acc_list = torch.tensor(val_acc_list, device = 'cpu')\n",
        "\n",
        "#Plot\n",
        "\n",
        "fig, ax1 = plt.subplots()\n",
        "ax1.plot(train_acc_list, color='red')\n",
        "ax1.set_xlabel('epoch')\n",
        "ax1.set_ylabel('accuracy')\n",
        "ax1.tick_params(axis='y')\n",
        "ax1.plot(val_acc_list, color='blue')\n",
        "fig.tight_layout()"
      ],
      "metadata": {
        "colab": {
          "base_uri": "https://localhost:8080/",
          "height": 297
        },
        "id": "fPEhSKZVndHy",
        "outputId": "6e5be78e-7330-405d-e505-e9cf812870c8"
      },
      "execution_count": null,
      "outputs": [
        {
          "output_type": "display_data",
          "data": {
            "text/plain": [
              "<Figure size 432x288 with 1 Axes>"
            ],
            "image/png": "[encoded data removed]"
          },
          "metadata": {
            "needs_background": "light"
          }
        }
      ]
    },
    {
      "cell_type": "markdown",
      "source": [
        "Transfer Learning using VGG16"
      ],
      "metadata": {
        "id": "Q5QbIZWHqH5T"
      }
    },
    {
      "cell_type": "code",
      "source": [
        "class MyPretrainModel(nn.Module):\n",
        "  def __init__(self, my_pretrained_model):\n",
        "    super(MyPretrainModel, self).__init__()\n",
        "    self.pretrained = my_pretrained_model\n",
        "    for param in self.pretrained.parameters():\n",
        "      param.rewuires_grad = False\n",
        "    self.my_new_layers = nn.Sequential(nn.Linear(self.pretrained.classifier[-1].out_features, 512),\n",
        "                                       nn.ReLU(),\n",
        "                                       nn.Linear(512, 3),)\n",
        "  def forward(self, x):\n",
        "    x = self.pretrained(x)\n",
        "    x = self.my_new_layers(x)\n",
        "    return x"
      ],
      "metadata": {
        "id": "3ArYXm5zqXDi"
      },
      "execution_count": null,
      "outputs": []
    },
    {
      "cell_type": "code",
      "source": [
        "model_ft = models.vgg16(pretrained=True)\n",
        "model_ft = MyPretrainModel(model_ft)\n",
        "model_ft.to"
      ],
      "metadata": {
        "colab": {
          "base_uri": "https://localhost:8080/",
          "height": 1000,
          "referenced_widgets": [
            "ea5610def7584091a886cc208ac11f52",
            "36de5f468f9b4defbd8a4196023346f2",
            "283e3abe58c3448f81f5aa8971e5bb03",
            "0f69b738141243a68178684836c86a01",
            "bf0d52938ff54f0e95d7b47163e03d36",
            "20dc778038634b2ab3125f19a249969b",
            "52d8a4d264ef43b9a75a37b050c4d302",
            "56d15b25423a46d099b05e2d0ca7607a",
            "d280bc7a280d4f48bfc927a79fd72b3a",
            "b1ca7ea7fdfb48faa492ac5f3a1db963",
            "7eeee8a0cdb142d5b1a077ddda0df57d"
          ]
        },
        "id": "LSLCnFMYr__b",
        "outputId": "cf918167-6ea1-4f97-e120-99ef8c33d78b"
      },
      "execution_count": null,
      "outputs": [
        {
          "output_type": "stream",
          "name": "stderr",
          "text": [
            "/usr/local/lib/python3.7/dist-packages/torchvision/models/_utils.py:209: UserWarning: The parameter 'pretrained' is deprecated since 0.13 and will be removed in 0.15, please use 'weights' instead.\n",
            "  f\"The parameter '{pretrained_param}' is deprecated since 0.13 and will be removed in 0.15, \"\n",
            "/usr/local/lib/python3.7/dist-packages/torchvision/models/_utils.py:223: UserWarning: Arguments other than a weight enum or `None` for 'weights' are deprecated since 0.13 and will be removed in 0.15. The current behavior is equivalent to passing `weights=VGG16_Weights.IMAGENET1K_V1`. You can also use `weights=VGG16_Weights.DEFAULT` to get the most up-to-date weights.\n",
            "  warnings.warn(msg)\n",
            "Downloading: \"https://download.pytorch.org/models/vgg16-397923af.pth\" to /root/.cache/torch/hub/checkpoints/vgg16-397923af.pth\n"
          ]
        },
        {
          "output_type": "display_data",
          "data": {
            "text/plain": [
              "  0%|          | 0.00/528M [00:00<?, ?B/s]"
            ],
            "application/vnd.jupyter.widget-view+json": {
              "version_major": 2,
              "version_minor": 0,
              "model_id": "ea5610def7584091a886cc208ac11f52"
            }
          },
          "metadata": {}
        },
        {
          "output_type": "execute_result",
          "data": {
            "text/plain": [
              "<bound method Module.to of MyPretrainModel(\n",
              "  (pretrained): VGG(\n",
              "    (features): Sequential(\n",
              "      (0): Conv2d(3, 64, kernel_size=(3, 3), stride=(1, 1), padding=(1, 1))\n",
              "      (1): ReLU(inplace=True)\n",
              "      (2): Conv2d(64, 64, kernel_size=(3, 3), stride=(1, 1), padding=(1, 1))\n",
              "      (3): ReLU(inplace=True)\n",
              "      (4): MaxPool2d(kernel_size=2, stride=2, padding=0, dilation=1, ceil_mode=False)\n",
              "      (5): Conv2d(64, 128, kernel_size=(3, 3), stride=(1, 1), padding=(1, 1))\n",
              "      (6): ReLU(inplace=True)\n",
              "      (7): Conv2d(128, 128, kernel_size=(3, 3), stride=(1, 1), padding=(1, 1))\n",
              "      (8): ReLU(inplace=True)\n",
              "      (9): MaxPool2d(kernel_size=2, stride=2, padding=0, dilation=1, ceil_mode=False)\n",
              "      (10): Conv2d(128, 256, kernel_size=(3, 3), stride=(1, 1), padding=(1, 1))\n",
              "      (11): ReLU(inplace=True)\n",
              "      (12): Conv2d(256, 256, kernel_size=(3, 3), stride=(1, 1), padding=(1, 1))\n",
              "      (13): ReLU(inplace=True)\n",
              "      (14): Conv2d(256, 256, kernel_size=(3, 3), stride=(1, 1), padding=(1, 1))\n",
              "      (15): ReLU(inplace=True)\n",
              "      (16): MaxPool2d(kernel_size=2, stride=2, padding=0, dilation=1, ceil_mode=False)\n",
              "      (17): Conv2d(256, 512, kernel_size=(3, 3), stride=(1, 1), padding=(1, 1))\n",
              "      (18): ReLU(inplace=True)\n",
              "      (19): Conv2d(512, 512, kernel_size=(3, 3), stride=(1, 1), padding=(1, 1))\n",
              "      (20): ReLU(inplace=True)\n",
              "      (21): Conv2d(512, 512, kernel_size=(3, 3), stride=(1, 1), padding=(1, 1))\n",
              "      (22): ReLU(inplace=True)\n",
              "      (23): MaxPool2d(kernel_size=2, stride=2, padding=0, dilation=1, ceil_mode=False)\n",
              "      (24): Conv2d(512, 512, kernel_size=(3, 3), stride=(1, 1), padding=(1, 1))\n",
              "      (25): ReLU(inplace=True)\n",
              "      (26): Conv2d(512, 512, kernel_size=(3, 3), stride=(1, 1), padding=(1, 1))\n",
              "      (27): ReLU(inplace=True)\n",
              "      (28): Conv2d(512, 512, kernel_size=(3, 3), stride=(1, 1), padding=(1, 1))\n",
              "      (29): ReLU(inplace=True)\n",
              "      (30): MaxPool2d(kernel_size=2, stride=2, padding=0, dilation=1, ceil_mode=False)\n",
              "    )\n",
              "    (avgpool): AdaptiveAvgPool2d(output_size=(7, 7))\n",
              "    (classifier): Sequential(\n",
              "      (0): Linear(in_features=25088, out_features=4096, bias=True)\n",
              "      (1): ReLU(inplace=True)\n",
              "      (2): Dropout(p=0.5, inplace=False)\n",
              "      (3): Linear(in_features=4096, out_features=4096, bias=True)\n",
              "      (4): ReLU(inplace=True)\n",
              "      (5): Dropout(p=0.5, inplace=False)\n",
              "      (6): Linear(in_features=4096, out_features=1000, bias=True)\n",
              "    )\n",
              "  )\n",
              "  (my_new_layers): Sequential(\n",
              "    (0): Linear(in_features=1000, out_features=512, bias=True)\n",
              "    (1): ReLU()\n",
              "    (2): Linear(in_features=512, out_features=3, bias=True)\n",
              "  )\n",
              ")>"
            ]
          },
          "metadata": {},
          "execution_count": 14
        }
      ]
    },
    {
      "cell_type": "markdown",
      "source": [
        "Reset the last layer of the VGG16 pretrained model"
      ],
      "metadata": {
        "id": "T78Al-7msppI"
      }
    },
    {
      "cell_type": "code",
      "source": [
        "#initialize loss and optimizer\n",
        "criterion = nn.CrossEntropyLoss()\n",
        "lr = 0.01 #learning rate\n",
        "optimizer = torch.optim.SGD(model.parameters(), lr=lr)"
      ],
      "metadata": {
        "id": "0awqz5DUsUpA"
      },
      "execution_count": null,
      "outputs": []
    },
    {
      "cell_type": "markdown",
      "source": [
        "Train VGG16 Model"
      ],
      "metadata": {
        "id": "DUwHWwwqtDf8"
      }
    },
    {
      "cell_type": "code",
      "source": [
        "n_epochs = 20\n",
        "\n",
        "train_cost_list = []\n",
        "train_acc_list = []\n",
        "val_cost_list = []\n",
        "val_acc_list = []\n",
        "N_train=len(train_data['train'])\n",
        "N_val=len(train_data['val'])\n",
        "\n",
        "train_model(model_ft, n_epochs)"
      ],
      "metadata": {
        "colab": {
          "base_uri": "https://localhost:8080/"
        },
        "id": "p-I4Zi_ntQmy",
        "outputId": "ba6acdf1-38df-490a-986c-c29350c42d63"
      },
      "execution_count": null,
      "outputs": [
        {
          "metadata": {
            "tags": null
          },
          "name": "stderr",
          "output_type": "stream",
          "text": [
            "\r  0%|          | 0/20 [00:00<?, ?it/s]"
          ]
        },
        {
          "metadata": {
            "tags": null
          },
          "name": "stdout",
          "output_type": "stream",
          "text": [
            "Training epoch 0...\n",
            "Epoch 1 \t\t Training Loss: 1.1459476947784424 \t\t Validation Loss: 1.1369706392288208\n",
            "Validation Loss Decreased(inf--->20.465471) \t Saving The Model\n"
          ]
        },
        {
          "metadata": {
            "tags": null
          },
          "name": "stderr",
          "output_type": "stream",
          "text": [
            "\r  5%|▌         | 1/20 [17:09<5:26:03, 1029.68s/it]"
          ]
        },
        {
          "metadata": {
            "tags": null
          },
          "name": "stdout",
          "output_type": "stream",
          "text": [
            "Training epoch 1...\n",
            "Epoch 2 \t\t Training Loss: 1.1508151292800903 \t\t Validation Loss: 1.0978931188583374\n",
            "Validation Loss Decreased(20.465471--->19.762075) \t Saving The Model\n"
          ]
        },
        {
          "metadata": {
            "tags": null
          },
          "name": "stderr",
          "output_type": "stream",
          "text": [
            "\r 10%|█         | 2/20 [34:28<5:10:25, 1034.77s/it]"
          ]
        },
        {
          "metadata": {
            "tags": null
          },
          "name": "stdout",
          "output_type": "stream",
          "text": [
            "Training epoch 2...\n"
          ]
        },
        {
          "metadata": {
            "tags": null
          },
          "name": "stderr",
          "output_type": "stream",
          "text": [
            "\r 15%|█▌        | 3/20 [51:35<4:52:11, 1031.24s/it]"
          ]
        },
        {
          "metadata": {
            "tags": null
          },
          "name": "stdout",
          "output_type": "stream",
          "text": [
            "Epoch 3 \t\t Training Loss: 1.1445752382278442 \t\t Validation Loss: 1.110152006149292\n",
            "Training epoch 3...\n"
          ]
        },
        {
          "metadata": {
            "tags": null
          },
          "name": "stderr",
          "output_type": "stream",
          "text": [
            "\r 20%|██        | 4/20 [1:08:41<4:34:31, 1029.45s/it]"
          ]
        },
        {
          "metadata": {
            "tags": null
          },
          "name": "stdout",
          "output_type": "stream",
          "text": [
            "Epoch 4 \t\t Training Loss: 1.1511845588684082 \t\t Validation Loss: 1.1270866394042969\n",
            "Training epoch 4...\n"
          ]
        },
        {
          "metadata": {
            "tags": null
          },
          "name": "stderr",
          "output_type": "stream",
          "text": [
            "\r 25%|██▌       | 5/20 [1:25:48<4:17:04, 1028.32s/it]"
          ]
        },
        {
          "metadata": {
            "tags": null
          },
          "name": "stdout",
          "output_type": "stream",
          "text": [
            "Epoch 5 \t\t Training Loss: 1.139528512954712 \t\t Validation Loss: 1.129347324371338\n",
            "Training epoch 5...\n"
          ]
        },
        {
          "metadata": {
            "tags": null
          },
          "name": "stderr",
          "output_type": "stream",
          "text": [
            "\r 30%|███       | 6/20 [1:42:56<3:59:56, 1028.33s/it]"
          ]
        },
        {
          "metadata": {
            "tags": null
          },
          "name": "stdout",
          "output_type": "stream",
          "text": [
            "Epoch 6 \t\t Training Loss: 1.1487829685211182 \t\t Validation Loss: 1.1261881589889526\n",
            "Training epoch 6...\n"
          ]
        },
        {
          "metadata": {
            "tags": null
          },
          "name": "stderr",
          "output_type": "stream",
          "text": [
            "\r 35%|███▌      | 7/20 [2:00:08<3:43:04, 1029.59s/it]"
          ]
        },
        {
          "metadata": {
            "tags": null
          },
          "name": "stdout",
          "output_type": "stream",
          "text": [
            "Epoch 7 \t\t Training Loss: 1.152633786201477 \t\t Validation Loss: 1.1148661375045776\n",
            "Training epoch 7...\n"
          ]
        },
        {
          "metadata": {
            "tags": null
          },
          "name": "stderr",
          "output_type": "stream",
          "text": [
            "\r 40%|████      | 8/20 [2:17:22<3:26:11, 1030.96s/it]"
          ]
        },
        {
          "metadata": {
            "tags": null
          },
          "name": "stdout",
          "output_type": "stream",
          "text": [
            "Epoch 8 \t\t Training Loss: 1.148587942123413 \t\t Validation Loss: 1.1290620565414429\n",
            "Training epoch 8...\n",
            "Epoch 9 \t\t Training Loss: 1.1682456731796265 \t\t Validation Loss: 1.0958491563796997\n",
            "Validation Loss Decreased(19.762075--->19.725285) \t Saving The Model\n"
          ]
        },
        {
          "metadata": {
            "tags": null
          },
          "name": "stderr",
          "output_type": "stream",
          "text": [
            "\r 45%|████▌     | 9/20 [2:34:36<3:09:10, 1031.87s/it]"
          ]
        },
        {
          "metadata": {
            "tags": null
          },
          "name": "stdout",
          "output_type": "stream",
          "text": [
            "Training epoch 9...\n"
          ]
        },
        {
          "output_type": "stream",
          "name": "stderr",
          "text": [
            "\r 50%|█████     | 10/20 [2:51:48<2:51:58, 1031.81s/it]"
          ]
        },
        {
          "output_type": "stream",
          "name": "stdout",
          "text": [
            "Epoch 10 \t\t Training Loss: 1.1488032341003418 \t\t Validation Loss: 1.107357382774353\n",
            "Training epoch 10...\n"
          ]
        },
        {
          "output_type": "stream",
          "name": "stderr",
          "text": [
            "\r 55%|█████▌    | 11/20 [3:08:54<2:34:31, 1030.19s/it]"
          ]
        },
        {
          "output_type": "stream",
          "name": "stdout",
          "text": [
            "Epoch 11 \t\t Training Loss: 1.1452134847640991 \t\t Validation Loss: 1.1106783151626587\n",
            "Training epoch 11...\n"
          ]
        },
        {
          "output_type": "stream",
          "name": "stderr",
          "text": [
            "\r 60%|██████    | 12/20 [3:25:57<2:17:04, 1028.02s/it]"
          ]
        },
        {
          "output_type": "stream",
          "name": "stdout",
          "text": [
            "Epoch 12 \t\t Training Loss: 1.1584490537643433 \t\t Validation Loss: 1.1093955039978027\n",
            "Training epoch 12...\n"
          ]
        },
        {
          "output_type": "stream",
          "name": "stderr",
          "text": [
            "\r 65%|██████▌   | 13/20 [3:42:57<1:59:39, 1025.65s/it]"
          ]
        },
        {
          "output_type": "stream",
          "name": "stdout",
          "text": [
            "Epoch 13 \t\t Training Loss: 1.1611660718917847 \t\t Validation Loss: 1.1005785465240479\n",
            "Training epoch 13...\n"
          ]
        },
        {
          "output_type": "stream",
          "name": "stderr",
          "text": [
            "\r 70%|███████   | 14/20 [3:59:56<1:42:21, 1023.55s/it]"
          ]
        },
        {
          "output_type": "stream",
          "name": "stdout",
          "text": [
            "Epoch 14 \t\t Training Loss: 1.148305058479309 \t\t Validation Loss: 1.1087912321090698\n",
            "Training epoch 14...\n"
          ]
        },
        {
          "output_type": "stream",
          "name": "stderr",
          "text": [
            "\r 75%|███████▌  | 15/20 [4:16:57<1:25:14, 1022.88s/it]"
          ]
        },
        {
          "output_type": "stream",
          "name": "stdout",
          "text": [
            "Epoch 15 \t\t Training Loss: 1.1425806283950806 \t\t Validation Loss: 1.1390928030014038\n",
            "Training epoch 15...\n"
          ]
        },
        {
          "output_type": "stream",
          "name": "stderr",
          "text": [
            "\r 80%|████████  | 16/20 [4:33:57<1:08:07, 1021.98s/it]"
          ]
        },
        {
          "output_type": "stream",
          "name": "stdout",
          "text": [
            "Epoch 16 \t\t Training Loss: 1.152738332748413 \t\t Validation Loss: 1.1191511154174805\n",
            "Training epoch 16...\n"
          ]
        },
        {
          "output_type": "stream",
          "name": "stderr",
          "text": [
            "\r 85%|████████▌ | 17/20 [4:50:58<51:04, 1021.50s/it]  "
          ]
        },
        {
          "output_type": "stream",
          "name": "stdout",
          "text": [
            "Epoch 17 \t\t Training Loss: 1.1408048868179321 \t\t Validation Loss: 1.1450666189193726\n",
            "Training epoch 17...\n"
          ]
        },
        {
          "output_type": "stream",
          "name": "stderr",
          "text": [
            "\r 90%|█████████ | 18/20 [5:08:00<34:03, 1021.74s/it]"
          ]
        },
        {
          "output_type": "stream",
          "name": "stdout",
          "text": [
            "Epoch 18 \t\t Training Loss: 1.145503044128418 \t\t Validation Loss: 1.1168071031570435\n",
            "Training epoch 18...\n"
          ]
        },
        {
          "output_type": "stream",
          "name": "stderr",
          "text": [
            "\r 95%|█████████▌| 19/20 [5:24:58<17:00, 1020.56s/it]"
          ]
        },
        {
          "output_type": "stream",
          "name": "stdout",
          "text": [
            "Epoch 19 \t\t Training Loss: 1.1472681760787964 \t\t Validation Loss: 1.104392409324646\n",
            "Training epoch 19...\n"
          ]
        },
        {
          "output_type": "stream",
          "name": "stderr",
          "text": [
            "100%|██████████| 20/20 [5:41:58<00:00, 1025.95s/it]"
          ]
        },
        {
          "output_type": "stream",
          "name": "stdout",
          "text": [
            "Epoch 20 \t\t Training Loss: 1.1561167240142822 \t\t Validation Loss: 1.1322131156921387\n"
          ]
        },
        {
          "output_type": "stream",
          "name": "stderr",
          "text": [
            "\n"
          ]
        }
      ]
    },
    {
      "cell_type": "markdown",
      "source": [
        "Model Accuracy"
      ],
      "metadata": {
        "id": "QK2RhiSsZPNN"
      }
    },
    {
      "cell_type": "code",
      "source": [
        "train_acc_list = torch.tensor(train_acc_list, device = 'cpu')\n",
        "val_acc_list = torch.tensor(val_acc_list, device = 'cpu')\n",
        "\n",
        "#Plot the Loss and Accuracy vs Epoch graph\n",
        "\n",
        "fig, ax1 = plt.subplots()\n",
        "ax1.plot(train_acc_list, color='red')\n",
        "ax1.set_xlabel('epoch')\n",
        "ax1.set_ylabel('accuracy')\n",
        "ax1.tick_params(axis='y')\n",
        "ax1.plot(val_acc_list, color='blue')\n",
        "fig.tight_layout()"
      ],
      "metadata": {
        "id": "hPgRvGxlZRLO",
        "colab": {
          "base_uri": "https://localhost:8080/",
          "height": 297
        },
        "outputId": "cfa13225-c269-44df-fa75-6c5902656fe5"
      },
      "execution_count": null,
      "outputs": [
        {
          "output_type": "display_data",
          "data": {
            "text/plain": [
              "<Figure size 432x288 with 1 Axes>"
            ],
            "image/png": "[encoded data removed]"
          },
          "metadata": {
            "needs_background": "light"
          }
        }
      ]
    }
  ]
}